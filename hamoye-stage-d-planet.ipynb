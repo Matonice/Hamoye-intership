{
 "cells": [
  {
   "cell_type": "markdown",
   "id": "68b7cb06",
   "metadata": {
    "papermill": {
     "duration": 0.021218,
     "end_time": "2021-10-19T00:34:23.149424",
     "exception": false,
     "start_time": "2021-10-19T00:34:23.128206",
     "status": "completed"
    },
    "tags": []
   },
   "source": [
    "### Importing Libraries"
   ]
  },
  {
   "cell_type": "code",
   "execution_count": 1,
   "id": "dbec6a23",
   "metadata": {
    "_cell_guid": "b1076dfc-b9ad-4769-8c92-a6c4dae69d19",
    "_uuid": "8f2839f25d086af736a60e9eeb907d3b93b6e0e5",
    "execution": {
     "iopub.execute_input": "2021-10-19T00:34:23.203814Z",
     "iopub.status.busy": "2021-10-19T00:34:23.202957Z",
     "iopub.status.idle": "2021-10-19T00:34:28.484940Z",
     "shell.execute_reply": "2021-10-19T00:34:28.484294Z",
     "shell.execute_reply.started": "2021-10-18T23:17:40.183695Z"
    },
    "papermill": {
     "duration": 5.312718,
     "end_time": "2021-10-19T00:34:28.485095",
     "exception": false,
     "start_time": "2021-10-19T00:34:23.172377",
     "status": "completed"
    },
    "tags": []
   },
   "outputs": [],
   "source": [
    "#import the necessary libraries\n",
    "\n",
    "import os # navigating through the folders\n",
    "import numpy as np \n",
    "import pandas as pd \n",
    "import matplotlib.image as mpimg\n",
    "from skimage import io\n",
    "from scipy import ndimage\n",
    "import cv2\n",
    "import gc\n",
    "import tensorflow as tf\n",
    "from tensorflow import keras\n",
    "from tensorflow.keras.models import Sequential, Model\n",
    "from tensorflow.keras.layers import Dense, Flatten, BatchNormalization, Conv2D, Dropout\n",
    "from tensorflow.keras.optimizers import Adam\n",
    "from tensorflow.keras.callbacks import EarlyStopping, ModelCheckpoint, History, ReduceLROnPlateau\n"
   ]
  },
  {
   "cell_type": "code",
   "execution_count": 2,
   "id": "4cfe8eec",
   "metadata": {
    "execution": {
     "iopub.execute_input": "2021-10-19T00:34:28.667579Z",
     "iopub.status.busy": "2021-10-19T00:34:28.666657Z",
     "iopub.status.idle": "2021-10-19T00:34:28.670545Z",
     "shell.execute_reply": "2021-10-19T00:34:28.670964Z",
     "shell.execute_reply.started": "2021-10-18T23:17:45.774512Z"
    },
    "papermill": {
     "duration": 0.165523,
     "end_time": "2021-10-19T00:34:28.671115",
     "exception": false,
     "start_time": "2021-10-19T00:34:28.505592",
     "status": "completed"
    },
    "tags": []
   },
   "outputs": [
    {
     "data": {
      "text/plain": [
       "43"
      ]
     },
     "execution_count": 2,
     "metadata": {},
     "output_type": "execute_result"
    }
   ],
   "source": [
    "# to clear space\n",
    "gc.collect() "
   ]
  },
  {
   "cell_type": "code",
   "execution_count": 3,
   "id": "d9a40289",
   "metadata": {
    "execution": {
     "iopub.execute_input": "2021-10-19T00:34:28.716884Z",
     "iopub.status.busy": "2021-10-19T00:34:28.716217Z",
     "iopub.status.idle": "2021-10-19T00:34:28.845480Z",
     "shell.execute_reply": "2021-10-19T00:34:28.844469Z",
     "shell.execute_reply.started": "2021-10-18T23:17:45.935669Z"
    },
    "papermill": {
     "duration": 0.153369,
     "end_time": "2021-10-19T00:34:28.845606",
     "exception": false,
     "start_time": "2021-10-19T00:34:28.692237",
     "status": "completed"
    },
    "tags": []
   },
   "outputs": [],
   "source": [
    "#reading the train_classes and the submission sample\n",
    "\n",
    "train_classes = pd.read_csv(\"../input/planets-dataset/planet/planet/train_classes.csv\")\n",
    "sample_submission = pd.read_csv(\"../input/planets-dataset/planet/planet/sample_submission.csv\")"
   ]
  },
  {
   "cell_type": "code",
   "execution_count": 4,
   "id": "30242bbf",
   "metadata": {
    "execution": {
     "iopub.execute_input": "2021-10-19T00:34:29.023744Z",
     "iopub.status.busy": "2021-10-19T00:34:29.023107Z",
     "iopub.status.idle": "2021-10-19T00:34:29.028860Z",
     "shell.execute_reply": "2021-10-19T00:34:29.027914Z",
     "shell.execute_reply.started": "2021-10-18T23:17:46.146306Z"
    },
    "papermill": {
     "duration": 0.162939,
     "end_time": "2021-10-19T00:34:29.028984",
     "exception": false,
     "start_time": "2021-10-19T00:34:28.866045",
     "status": "completed"
    },
    "tags": []
   },
   "outputs": [
    {
     "data": {
      "text/plain": [
       "0"
      ]
     },
     "execution_count": 4,
     "metadata": {},
     "output_type": "execute_result"
    }
   ],
   "source": [
    "gc.collect()"
   ]
  },
  {
   "cell_type": "code",
   "execution_count": null,
   "id": "0659ffac",
   "metadata": {
    "papermill": {
     "duration": 0.020556,
     "end_time": "2021-10-19T00:34:29.070151",
     "exception": false,
     "start_time": "2021-10-19T00:34:29.049595",
     "status": "completed"
    },
    "tags": []
   },
   "outputs": [],
   "source": []
  },
  {
   "cell_type": "code",
   "execution_count": 5,
   "id": "52e2da82",
   "metadata": {
    "execution": {
     "iopub.execute_input": "2021-10-19T00:34:29.114856Z",
     "iopub.status.busy": "2021-10-19T00:34:29.114151Z",
     "iopub.status.idle": "2021-10-19T00:34:29.116394Z",
     "shell.execute_reply": "2021-10-19T00:34:29.116808Z",
     "shell.execute_reply.started": "2021-10-18T23:17:48.052924Z"
    },
    "papermill": {
     "duration": 0.026435,
     "end_time": "2021-10-19T00:34:29.116933",
     "exception": false,
     "start_time": "2021-10-19T00:34:29.090498",
     "status": "completed"
    },
    "tags": []
   },
   "outputs": [],
   "source": [
    "# paths to all the images\n",
    "\n",
    "train_path = ('../input/planets-dataset/planet/planet/train-jpg')\n",
    "test_path = ('../input/planets-dataset/planet/planet/test-jpg')\n",
    "test_additional_path = ('../input/planets-dataset/test-jpg-additional/test-jpg-additional')"
   ]
  },
  {
   "cell_type": "code",
   "execution_count": 6,
   "id": "556f209f",
   "metadata": {
    "execution": {
     "iopub.execute_input": "2021-10-19T00:34:29.167058Z",
     "iopub.status.busy": "2021-10-19T00:34:29.166237Z",
     "iopub.status.idle": "2021-10-19T00:34:29.204184Z",
     "shell.execute_reply": "2021-10-19T00:34:29.203760Z",
     "shell.execute_reply.started": "2021-10-18T23:17:52.561602Z"
    },
    "papermill": {
     "duration": 0.067179,
     "end_time": "2021-10-19T00:34:29.204328",
     "exception": false,
     "start_time": "2021-10-19T00:34:29.137149",
     "status": "completed"
    },
    "tags": []
   },
   "outputs": [],
   "source": [
    "flatten = lambda l: [item for sublist in l for item in sublist]\n",
    "\n",
    "#using the lambda function to create our labels\n",
    "labels = list(set(flatten([l.split(' ') for l in train_classes['tags'].values])))\n",
    "\n",
    "#Creating our label map\n",
    "label_map = {l: i for i, l in enumerate(labels)}"
   ]
  },
  {
   "cell_type": "code",
   "execution_count": 7,
   "id": "bba55955",
   "metadata": {
    "execution": {
     "iopub.execute_input": "2021-10-19T00:34:29.263381Z",
     "iopub.status.busy": "2021-10-19T00:34:29.262450Z",
     "iopub.status.idle": "2021-10-19T00:34:29.280831Z",
     "shell.execute_reply": "2021-10-19T00:34:29.281436Z",
     "shell.execute_reply.started": "2021-10-18T23:17:58.907519Z"
    },
    "papermill": {
     "duration": 0.05706,
     "end_time": "2021-10-19T00:34:29.281602",
     "exception": false,
     "start_time": "2021-10-19T00:34:29.224542",
     "status": "completed"
    },
    "tags": []
   },
   "outputs": [
    {
     "name": "stdout",
     "output_type": "stream",
     "text": [
      "There is 17 unique labels including {'agriculture', 'blooming', 'road', 'primary', 'water', 'habitation', 'slash_burn', 'partly_cloudy', 'haze', 'cloudy', 'conventional_mine', 'selective_logging', 'blow_down', 'bare_ground', 'artisinal_mine', 'cultivation', 'clear'}\n"
     ]
    }
   ],
   "source": [
    "from itertools import chain\n",
    "labels_list = list(chain.from_iterable([tags.split(\" \") for tags in train_classes['tags'].values]))\n",
    "labels_set = set(labels_list)\n",
    "print(\"There is {} unique labels including {}\".format(len(labels_set), labels_set))"
   ]
  },
  {
   "cell_type": "code",
   "execution_count": 8,
   "id": "60df4e28",
   "metadata": {
    "execution": {
     "iopub.execute_input": "2021-10-19T00:34:29.387233Z",
     "iopub.status.busy": "2021-10-19T00:34:29.356745Z",
     "iopub.status.idle": "2021-10-19T00:34:29.856722Z",
     "shell.execute_reply": "2021-10-19T00:34:29.857149Z",
     "shell.execute_reply.started": "2021-10-18T23:17:59.820074Z"
    },
    "papermill": {
     "duration": 0.554329,
     "end_time": "2021-10-19T00:34:29.857331",
     "exception": false,
     "start_time": "2021-10-19T00:34:29.303002",
     "status": "completed"
    },
    "tags": []
   },
   "outputs": [
    {
     "data": {
      "text/html": [
       "<div>\n",
       "<style scoped>\n",
       "    .dataframe tbody tr th:only-of-type {\n",
       "        vertical-align: middle;\n",
       "    }\n",
       "\n",
       "    .dataframe tbody tr th {\n",
       "        vertical-align: top;\n",
       "    }\n",
       "\n",
       "    .dataframe thead th {\n",
       "        text-align: right;\n",
       "    }\n",
       "</style>\n",
       "<table border=\"1\" class=\"dataframe\">\n",
       "  <thead>\n",
       "    <tr style=\"text-align: right;\">\n",
       "      <th></th>\n",
       "      <th>image_name</th>\n",
       "      <th>tags</th>\n",
       "      <th>agriculture</th>\n",
       "      <th>blooming</th>\n",
       "      <th>road</th>\n",
       "      <th>primary</th>\n",
       "      <th>water</th>\n",
       "      <th>habitation</th>\n",
       "      <th>slash_burn</th>\n",
       "      <th>partly_cloudy</th>\n",
       "      <th>haze</th>\n",
       "      <th>cloudy</th>\n",
       "      <th>conventional_mine</th>\n",
       "      <th>selective_logging</th>\n",
       "      <th>blow_down</th>\n",
       "      <th>bare_ground</th>\n",
       "      <th>artisinal_mine</th>\n",
       "      <th>cultivation</th>\n",
       "      <th>clear</th>\n",
       "    </tr>\n",
       "  </thead>\n",
       "  <tbody>\n",
       "    <tr>\n",
       "      <th>0</th>\n",
       "      <td>train_0.jpg</td>\n",
       "      <td>haze primary</td>\n",
       "      <td>0</td>\n",
       "      <td>0</td>\n",
       "      <td>0</td>\n",
       "      <td>1</td>\n",
       "      <td>0</td>\n",
       "      <td>0</td>\n",
       "      <td>0</td>\n",
       "      <td>0</td>\n",
       "      <td>1</td>\n",
       "      <td>0</td>\n",
       "      <td>0</td>\n",
       "      <td>0</td>\n",
       "      <td>0</td>\n",
       "      <td>0</td>\n",
       "      <td>0</td>\n",
       "      <td>0</td>\n",
       "      <td>0</td>\n",
       "    </tr>\n",
       "    <tr>\n",
       "      <th>1</th>\n",
       "      <td>train_1.jpg</td>\n",
       "      <td>agriculture clear primary water</td>\n",
       "      <td>1</td>\n",
       "      <td>0</td>\n",
       "      <td>0</td>\n",
       "      <td>1</td>\n",
       "      <td>1</td>\n",
       "      <td>0</td>\n",
       "      <td>0</td>\n",
       "      <td>0</td>\n",
       "      <td>0</td>\n",
       "      <td>0</td>\n",
       "      <td>0</td>\n",
       "      <td>0</td>\n",
       "      <td>0</td>\n",
       "      <td>0</td>\n",
       "      <td>0</td>\n",
       "      <td>0</td>\n",
       "      <td>1</td>\n",
       "    </tr>\n",
       "    <tr>\n",
       "      <th>2</th>\n",
       "      <td>train_2.jpg</td>\n",
       "      <td>clear primary</td>\n",
       "      <td>0</td>\n",
       "      <td>0</td>\n",
       "      <td>0</td>\n",
       "      <td>1</td>\n",
       "      <td>0</td>\n",
       "      <td>0</td>\n",
       "      <td>0</td>\n",
       "      <td>0</td>\n",
       "      <td>0</td>\n",
       "      <td>0</td>\n",
       "      <td>0</td>\n",
       "      <td>0</td>\n",
       "      <td>0</td>\n",
       "      <td>0</td>\n",
       "      <td>0</td>\n",
       "      <td>0</td>\n",
       "      <td>1</td>\n",
       "    </tr>\n",
       "    <tr>\n",
       "      <th>3</th>\n",
       "      <td>train_3.jpg</td>\n",
       "      <td>clear primary</td>\n",
       "      <td>0</td>\n",
       "      <td>0</td>\n",
       "      <td>0</td>\n",
       "      <td>1</td>\n",
       "      <td>0</td>\n",
       "      <td>0</td>\n",
       "      <td>0</td>\n",
       "      <td>0</td>\n",
       "      <td>0</td>\n",
       "      <td>0</td>\n",
       "      <td>0</td>\n",
       "      <td>0</td>\n",
       "      <td>0</td>\n",
       "      <td>0</td>\n",
       "      <td>0</td>\n",
       "      <td>0</td>\n",
       "      <td>1</td>\n",
       "    </tr>\n",
       "    <tr>\n",
       "      <th>4</th>\n",
       "      <td>train_4.jpg</td>\n",
       "      <td>agriculture clear habitation primary road</td>\n",
       "      <td>1</td>\n",
       "      <td>0</td>\n",
       "      <td>1</td>\n",
       "      <td>1</td>\n",
       "      <td>0</td>\n",
       "      <td>1</td>\n",
       "      <td>0</td>\n",
       "      <td>0</td>\n",
       "      <td>0</td>\n",
       "      <td>0</td>\n",
       "      <td>0</td>\n",
       "      <td>0</td>\n",
       "      <td>0</td>\n",
       "      <td>0</td>\n",
       "      <td>0</td>\n",
       "      <td>0</td>\n",
       "      <td>1</td>\n",
       "    </tr>\n",
       "  </tbody>\n",
       "</table>\n",
       "</div>"
      ],
      "text/plain": [
       "    image_name                                       tags  agriculture  \\\n",
       "0  train_0.jpg                               haze primary            0   \n",
       "1  train_1.jpg            agriculture clear primary water            1   \n",
       "2  train_2.jpg                              clear primary            0   \n",
       "3  train_3.jpg                              clear primary            0   \n",
       "4  train_4.jpg  agriculture clear habitation primary road            1   \n",
       "\n",
       "   blooming  road  primary  water  habitation  slash_burn  partly_cloudy  \\\n",
       "0         0     0        1      0           0           0              0   \n",
       "1         0     0        1      1           0           0              0   \n",
       "2         0     0        1      0           0           0              0   \n",
       "3         0     0        1      0           0           0              0   \n",
       "4         0     1        1      0           1           0              0   \n",
       "\n",
       "   haze  cloudy  conventional_mine  selective_logging  blow_down  bare_ground  \\\n",
       "0     1       0                  0                  0          0            0   \n",
       "1     0       0                  0                  0          0            0   \n",
       "2     0       0                  0                  0          0            0   \n",
       "3     0       0                  0                  0          0            0   \n",
       "4     0       0                  0                  0          0            0   \n",
       "\n",
       "   artisinal_mine  cultivation  clear  \n",
       "0               0            0      0  \n",
       "1               0            0      1  \n",
       "2               0            0      1  \n",
       "3               0            0      1  \n",
       "4               0            0      1  "
      ]
     },
     "execution_count": 8,
     "metadata": {},
     "output_type": "execute_result"
    }
   ],
   "source": [
    "# converting the tags columns into one_hot_vectors\n",
    "for tag in labels_set:\n",
    "    train_classes[tag] = train_classes['tags'].apply(lambda x: 1 if tag in x.split() else 0)\n",
    "    \n",
    "# adding '.jpg' extension to 'image_name'\n",
    "train_classes['image_name'] = train_classes['image_name'].apply(lambda x: '{}.jpg'.format(x)) \n",
    "train_classes.head()"
   ]
  },
  {
   "cell_type": "markdown",
   "id": "8fcf04f0",
   "metadata": {
    "papermill": {
     "duration": 0.021117,
     "end_time": "2021-10-19T00:34:29.900029",
     "exception": false,
     "start_time": "2021-10-19T00:34:29.878912",
     "status": "completed"
    },
    "tags": []
   },
   "source": [
    "### Reading in the training set"
   ]
  },
  {
   "cell_type": "code",
   "execution_count": 9,
   "id": "73f9de86",
   "metadata": {
    "execution": {
     "iopub.execute_input": "2021-10-19T00:34:29.949995Z",
     "iopub.status.busy": "2021-10-19T00:34:29.949054Z",
     "iopub.status.idle": "2021-10-19T00:35:02.736199Z",
     "shell.execute_reply": "2021-10-19T00:35:02.736880Z",
     "shell.execute_reply.started": "2021-10-18T23:18:02.423004Z"
    },
    "papermill": {
     "duration": 32.815404,
     "end_time": "2021-10-19T00:35:02.737044",
     "exception": false,
     "start_time": "2021-10-19T00:34:29.921640",
     "status": "completed"
    },
    "tags": []
   },
   "outputs": [
    {
     "name": "stdout",
     "output_type": "stream",
     "text": [
      "Found 32384 validated image filenames.\n",
      "Found 8095 validated image filenames.\n"
     ]
    }
   ],
   "source": [
    "\n",
    "y_col = list(train_classes.columns[2:]) \n",
    "train_image_gen = tf.keras.preprocessing.image.ImageDataGenerator(rescale=1/255,validation_split=0.2)\n",
    "\n",
    "# creating the training set\n",
    "training_set = train_image_gen.flow_from_dataframe(dataframe=train_classes, directory=train_path, x_col='image_name', y_col=y_col, \\\n",
    "       target_size=(224,224), class_mode='raw', seed=0, batch_size=128, subset='training')\n",
    "\n",
    "# creating the validation set\n",
    "validation_set = train_image_gen.flow_from_dataframe(dataframe=train_classes, directory=train_path, x_col='image_name', y_col=y_col, \\\n",
    "       target_size=(224,224), class_mode='raw', seed=0, batch_size=128, subset='validation')"
   ]
  },
  {
   "cell_type": "code",
   "execution_count": 10,
   "id": "389bbf8e",
   "metadata": {
    "execution": {
     "iopub.execute_input": "2021-10-19T00:35:02.787461Z",
     "iopub.status.busy": "2021-10-19T00:35:02.786753Z",
     "iopub.status.idle": "2021-10-19T00:35:02.789630Z",
     "shell.execute_reply": "2021-10-19T00:35:02.789164Z",
     "shell.execute_reply.started": "2021-10-18T23:18:36.227971Z"
    },
    "papermill": {
     "duration": 0.030427,
     "end_time": "2021-10-19T00:35:02.789748",
     "exception": false,
     "start_time": "2021-10-19T00:35:02.759321",
     "status": "completed"
    },
    "tags": []
   },
   "outputs": [],
   "source": [
    "from keras import backend as K\n",
    "# defining a function to help calculate the fbeta_score\n",
    "def fbeta_score_K(y_true, y_pred):\n",
    "    beta_squared = 4\n",
    "\n",
    "    tp = K.sum(y_true * y_pred) + K.epsilon()\n",
    "    fp = K.sum(y_pred) - tp\n",
    "    fn = K.sum(y_true) - tp\n",
    "\n",
    "    precision = tp / (tp + fp)\n",
    "    recall = tp / (tp + fn)\n",
    "\n",
    "    result = (beta_squared + 1) * (precision * recall) / (beta_squared * precision + recall + K.epsilon())\n",
    "\n",
    "    return result"
   ]
  },
  {
   "cell_type": "markdown",
   "id": "fb722ecf",
   "metadata": {
    "papermill": {
     "duration": 0.021546,
     "end_time": "2021-10-19T00:35:02.833119",
     "exception": false,
     "start_time": "2021-10-19T00:35:02.811573",
     "status": "completed"
    },
    "tags": []
   },
   "source": [
    "### Using Vgg16 as my pre_trained model"
   ]
  },
  {
   "cell_type": "code",
   "execution_count": 11,
   "id": "5f76c45a",
   "metadata": {
    "execution": {
     "iopub.execute_input": "2021-10-19T00:35:02.882716Z",
     "iopub.status.busy": "2021-10-19T00:35:02.881770Z",
     "iopub.status.idle": "2021-10-19T00:35:07.392431Z",
     "shell.execute_reply": "2021-10-19T00:35:07.392951Z",
     "shell.execute_reply.started": "2021-10-18T23:18:36.236481Z"
    },
    "papermill": {
     "duration": 4.538088,
     "end_time": "2021-10-19T00:35:07.393118",
     "exception": false,
     "start_time": "2021-10-19T00:35:02.855030",
     "status": "completed"
    },
    "tags": []
   },
   "outputs": [
    {
     "name": "stderr",
     "output_type": "stream",
     "text": [
      "2021-10-19 00:35:02.978446: I tensorflow/stream_executor/cuda/cuda_gpu_executor.cc:937] successful NUMA node read from SysFS had negative value (-1), but there must be at least one NUMA node, so returning NUMA node zero\n",
      "2021-10-19 00:35:03.066116: I tensorflow/stream_executor/cuda/cuda_gpu_executor.cc:937] successful NUMA node read from SysFS had negative value (-1), but there must be at least one NUMA node, so returning NUMA node zero\n",
      "2021-10-19 00:35:03.066808: I tensorflow/stream_executor/cuda/cuda_gpu_executor.cc:937] successful NUMA node read from SysFS had negative value (-1), but there must be at least one NUMA node, so returning NUMA node zero\n",
      "2021-10-19 00:35:03.068907: I tensorflow/core/platform/cpu_feature_guard.cc:142] This TensorFlow binary is optimized with oneAPI Deep Neural Network Library (oneDNN) to use the following CPU instructions in performance-critical operations:  AVX2 AVX512F FMA\n",
      "To enable them in other operations, rebuild TensorFlow with the appropriate compiler flags.\n",
      "2021-10-19 00:35:03.070166: I tensorflow/stream_executor/cuda/cuda_gpu_executor.cc:937] successful NUMA node read from SysFS had negative value (-1), but there must be at least one NUMA node, so returning NUMA node zero\n",
      "2021-10-19 00:35:03.071204: I tensorflow/stream_executor/cuda/cuda_gpu_executor.cc:937] successful NUMA node read from SysFS had negative value (-1), but there must be at least one NUMA node, so returning NUMA node zero\n",
      "2021-10-19 00:35:03.072260: I tensorflow/stream_executor/cuda/cuda_gpu_executor.cc:937] successful NUMA node read from SysFS had negative value (-1), but there must be at least one NUMA node, so returning NUMA node zero\n",
      "2021-10-19 00:35:04.923624: I tensorflow/stream_executor/cuda/cuda_gpu_executor.cc:937] successful NUMA node read from SysFS had negative value (-1), but there must be at least one NUMA node, so returning NUMA node zero\n",
      "2021-10-19 00:35:04.924450: I tensorflow/stream_executor/cuda/cuda_gpu_executor.cc:937] successful NUMA node read from SysFS had negative value (-1), but there must be at least one NUMA node, so returning NUMA node zero\n",
      "2021-10-19 00:35:04.925100: I tensorflow/stream_executor/cuda/cuda_gpu_executor.cc:937] successful NUMA node read from SysFS had negative value (-1), but there must be at least one NUMA node, so returning NUMA node zero\n",
      "2021-10-19 00:35:04.925716: I tensorflow/core/common_runtime/gpu/gpu_device.cc:1510] Created device /job:localhost/replica:0/task:0/device:GPU:0 with 15403 MB memory:  -> device: 0, name: Tesla P100-PCIE-16GB, pci bus id: 0000:00:04.0, compute capability: 6.0\n"
     ]
    },
    {
     "name": "stdout",
     "output_type": "stream",
     "text": [
      "Downloading data from https://storage.googleapis.com/tensorflow/keras-applications/vgg16/vgg16_weights_tf_dim_ordering_tf_kernels_notop.h5\n",
      "58892288/58889256 [==============================] - 1s 0us/step\n",
      "58900480/58889256 [==============================] - 1s 0us/step\n",
      "Model: \"vgg16\"\n",
      "_________________________________________________________________\n",
      "Layer (type)                 Output Shape              Param #   \n",
      "=================================================================\n",
      "input_1 (InputLayer)         [(None, 224, 224, 3)]     0         \n",
      "_________________________________________________________________\n",
      "block1_conv1 (Conv2D)        (None, 224, 224, 64)      1792      \n",
      "_________________________________________________________________\n",
      "block1_conv2 (Conv2D)        (None, 224, 224, 64)      36928     \n",
      "_________________________________________________________________\n",
      "block1_pool (MaxPooling2D)   (None, 112, 112, 64)      0         \n",
      "_________________________________________________________________\n",
      "block2_conv1 (Conv2D)        (None, 112, 112, 128)     73856     \n",
      "_________________________________________________________________\n",
      "block2_conv2 (Conv2D)        (None, 112, 112, 128)     147584    \n",
      "_________________________________________________________________\n",
      "block2_pool (MaxPooling2D)   (None, 56, 56, 128)       0         \n",
      "_________________________________________________________________\n",
      "block3_conv1 (Conv2D)        (None, 56, 56, 256)       295168    \n",
      "_________________________________________________________________\n",
      "block3_conv2 (Conv2D)        (None, 56, 56, 256)       590080    \n",
      "_________________________________________________________________\n",
      "block3_conv3 (Conv2D)        (None, 56, 56, 256)       590080    \n",
      "_________________________________________________________________\n",
      "block3_pool (MaxPooling2D)   (None, 28, 28, 256)       0         \n",
      "_________________________________________________________________\n",
      "block4_conv1 (Conv2D)        (None, 28, 28, 512)       1180160   \n",
      "_________________________________________________________________\n",
      "block4_conv2 (Conv2D)        (None, 28, 28, 512)       2359808   \n",
      "_________________________________________________________________\n",
      "block4_conv3 (Conv2D)        (None, 28, 28, 512)       2359808   \n",
      "_________________________________________________________________\n",
      "block4_pool (MaxPooling2D)   (None, 14, 14, 512)       0         \n",
      "_________________________________________________________________\n",
      "block5_conv1 (Conv2D)        (None, 14, 14, 512)       2359808   \n",
      "_________________________________________________________________\n",
      "block5_conv2 (Conv2D)        (None, 14, 14, 512)       2359808   \n",
      "_________________________________________________________________\n",
      "block5_conv3 (Conv2D)        (None, 14, 14, 512)       2359808   \n",
      "_________________________________________________________________\n",
      "block5_pool (MaxPooling2D)   (None, 7, 7, 512)         0         \n",
      "=================================================================\n",
      "Total params: 14,714,688\n",
      "Trainable params: 14,714,688\n",
      "Non-trainable params: 0\n",
      "_________________________________________________________________\n"
     ]
    }
   ],
   "source": [
    "import tensorflow.keras as keras\n",
    "# Loading the pre-trained VGG16 architecture module\n",
    "from tensorflow.keras.applications.vgg16 import VGG16\n",
    "\n",
    "\n",
    "\n",
    "# Extract the pre - trained architecture\n",
    "vgg_model = VGG16(input_shape =(224,224,3),include_top =False,weights ='imagenet')\n",
    "vgg_model.summary()\n",
    "\n",
    "# Get the output of the base_model formed above\n",
    "x = vgg_model.output\n",
    "x = Flatten()(x)\n",
    "x = Dense (1000 , activation ='relu')(x)\n",
    "predictions = Dense (17 , activation ='sigmoid')(x)\n",
    "model = Model(inputs= vgg_model.input,outputs = predictions)"
   ]
  },
  {
   "cell_type": "markdown",
   "id": "bb9d4324",
   "metadata": {
    "papermill": {
     "duration": 0.025369,
     "end_time": "2021-10-19T00:35:07.444669",
     "exception": false,
     "start_time": "2021-10-19T00:35:07.419300",
     "status": "completed"
    },
    "tags": []
   },
   "source": [
    "### Training the model"
   ]
  },
  {
   "cell_type": "code",
   "execution_count": 12,
   "id": "55e1fe8f",
   "metadata": {
    "execution": {
     "iopub.execute_input": "2021-10-19T00:35:07.507183Z",
     "iopub.status.busy": "2021-10-19T00:35:07.506414Z",
     "iopub.status.idle": "2021-10-19T01:11:04.344969Z",
     "shell.execute_reply": "2021-10-19T01:11:04.345677Z",
     "shell.execute_reply.started": "2021-10-18T23:18:39.918541Z"
    },
    "papermill": {
     "duration": 2156.875842,
     "end_time": "2021-10-19T01:11:04.345892",
     "exception": false,
     "start_time": "2021-10-19T00:35:07.470050",
     "status": "completed"
    },
    "tags": []
   },
   "outputs": [
    {
     "name": "stderr",
     "output_type": "stream",
     "text": [
      "2021-10-19 00:35:08.629256: I tensorflow/compiler/mlir/mlir_graph_optimization_pass.cc:185] None of the MLIR Optimization Passes are enabled (registered 2)\n"
     ]
    },
    {
     "name": "stdout",
     "output_type": "stream",
     "text": [
      "Epoch 1/20\n"
     ]
    },
    {
     "name": "stderr",
     "output_type": "stream",
     "text": [
      "2021-10-19 00:35:11.710974: I tensorflow/stream_executor/cuda/cuda_dnn.cc:369] Loaded cuDNN version 8005\n"
     ]
    },
    {
     "name": "stdout",
     "output_type": "stream",
     "text": [
      "253/253 [==============================] - 331s 1s/step - loss: 0.2328 - accuracy: 0.5715 - fbeta_score_K: 0.6286 - val_loss: 0.1672 - val_accuracy: 0.5615 - val_fbeta_score_K: 0.7120\n",
      "Epoch 2/20\n",
      "253/253 [==============================] - 231s 911ms/step - loss: 0.1596 - accuracy: 0.5518 - fbeta_score_K: 0.7255 - val_loss: 0.1464 - val_accuracy: 0.5778 - val_fbeta_score_K: 0.7488\n",
      "Epoch 3/20\n",
      "253/253 [==============================] - 231s 910ms/step - loss: 0.1441 - accuracy: 0.5633 - fbeta_score_K: 0.7517 - val_loss: 0.1363 - val_accuracy: 0.5655 - val_fbeta_score_K: 0.7601\n",
      "Epoch 4/20\n",
      "253/253 [==============================] - 230s 909ms/step - loss: 0.1312 - accuracy: 0.5694 - fbeta_score_K: 0.7725 - val_loss: 0.1252 - val_accuracy: 0.5946 - val_fbeta_score_K: 0.7785\n",
      "Epoch 5/20\n",
      "253/253 [==============================] - 232s 913ms/step - loss: 0.1257 - accuracy: 0.5779 - fbeta_score_K: 0.7830 - val_loss: 0.1244 - val_accuracy: 0.6010 - val_fbeta_score_K: 0.7844\n",
      "Epoch 6/20\n",
      "253/253 [==============================] - 231s 911ms/step - loss: 0.1199 - accuracy: 0.5869 - fbeta_score_K: 0.7935 - val_loss: 0.1194 - val_accuracy: 0.5854 - val_fbeta_score_K: 0.7987\n",
      "Epoch 7/20\n",
      "253/253 [==============================] - 231s 912ms/step - loss: 0.1138 - accuracy: 0.5889 - fbeta_score_K: 0.8038 - val_loss: 0.1224 - val_accuracy: 0.5823 - val_fbeta_score_K: 0.7969\n",
      "Epoch 8/20\n",
      "253/253 [==============================] - 232s 914ms/step - loss: 0.1090 - accuracy: 0.5911 - fbeta_score_K: 0.8123 - val_loss: 0.1206 - val_accuracy: 0.5942 - val_fbeta_score_K: 0.8127\n"
     ]
    }
   ],
   "source": [
    "history = History()\n",
    "callbacks = [ EarlyStopping(monitor='val_loss',\n",
    "                           patience=2,\n",
    "                           verbose=0)]\n",
    "             \n",
    "\n",
    "# setting step size for training and validation image data\n",
    "step_train_size = int(np.ceil(training_set.samples / training_set.batch_size))\n",
    "step_val_size = int(np.ceil(validation_set.samples / validation_set.batch_size))\n",
    "\n",
    "#compiling the model\n",
    "model.compile(loss='binary_crossentropy', optimizer=\"Adam\", metrics=['accuracy', fbeta_score_K])\n",
    "\n",
    "# fitting the model\n",
    "history = model.fit(x=training_set, steps_per_epoch=step_train_size, validation_data=validation_set, validation_steps=step_val_size,\n",
    "         epochs=20, callbacks=callbacks)"
   ]
  },
  {
   "cell_type": "code",
   "execution_count": 13,
   "id": "eb8a79eb",
   "metadata": {
    "execution": {
     "iopub.execute_input": "2021-10-19T01:11:05.486771Z",
     "iopub.status.busy": "2021-10-19T01:11:05.464511Z",
     "iopub.status.idle": "2021-10-19T01:11:05.495119Z",
     "shell.execute_reply": "2021-10-19T01:11:05.495576Z",
     "shell.execute_reply.started": "2021-10-19T00:14:37.530429Z"
    },
    "papermill": {
     "duration": 0.597365,
     "end_time": "2021-10-19T01:11:05.495718",
     "exception": false,
     "start_time": "2021-10-19T01:11:04.898353",
     "status": "completed"
    },
    "tags": []
   },
   "outputs": [
    {
     "data": {
      "text/html": [
       "<div>\n",
       "<style scoped>\n",
       "    .dataframe tbody tr th:only-of-type {\n",
       "        vertical-align: middle;\n",
       "    }\n",
       "\n",
       "    .dataframe tbody tr th {\n",
       "        vertical-align: top;\n",
       "    }\n",
       "\n",
       "    .dataframe thead th {\n",
       "        text-align: right;\n",
       "    }\n",
       "</style>\n",
       "<table border=\"1\" class=\"dataframe\">\n",
       "  <thead>\n",
       "    <tr style=\"text-align: right;\">\n",
       "      <th></th>\n",
       "      <th>image_name</th>\n",
       "    </tr>\n",
       "  </thead>\n",
       "  <tbody>\n",
       "    <tr>\n",
       "      <th>0</th>\n",
       "      <td>test_0.jpg</td>\n",
       "    </tr>\n",
       "    <tr>\n",
       "      <th>1</th>\n",
       "      <td>test_1.jpg</td>\n",
       "    </tr>\n",
       "    <tr>\n",
       "      <th>2</th>\n",
       "      <td>test_2.jpg</td>\n",
       "    </tr>\n",
       "    <tr>\n",
       "      <th>3</th>\n",
       "      <td>test_3.jpg</td>\n",
       "    </tr>\n",
       "    <tr>\n",
       "      <th>4</th>\n",
       "      <td>test_4.jpg</td>\n",
       "    </tr>\n",
       "  </tbody>\n",
       "</table>\n",
       "</div>"
      ],
      "text/plain": [
       "   image_name\n",
       "0  test_0.jpg\n",
       "1  test_1.jpg\n",
       "2  test_2.jpg\n",
       "3  test_3.jpg\n",
       "4  test_4.jpg"
      ]
     },
     "execution_count": 13,
     "metadata": {},
     "output_type": "execute_result"
    }
   ],
   "source": [
    "#making a copy of the sample submission\n",
    "sample_copy = sample_submission.copy()\n",
    "sample_copy['image_name'] = sample_copy['image_name'].apply(lambda x: '{}.jpg'.format(x))\n",
    "sample_copy.head()\n",
    "\n",
    "\n",
    "# creating a dataframe for the first 40669 images since we have 2 files for the testing set\n",
    "test1 = sample_copy.iloc[:40669]['image_name'].reset_index().drop('index', axis=1)\n",
    "test1.head()"
   ]
  },
  {
   "cell_type": "markdown",
   "id": "ace5c8fc",
   "metadata": {
    "papermill": {
     "duration": 0.827631,
     "end_time": "2021-10-19T01:11:06.873436",
     "exception": false,
     "start_time": "2021-10-19T01:11:06.045805",
     "status": "completed"
    },
    "tags": []
   },
   "source": [
    "### Reading in the first test data"
   ]
  },
  {
   "cell_type": "code",
   "execution_count": 14,
   "id": "21f445de",
   "metadata": {
    "execution": {
     "iopub.execute_input": "2021-10-19T01:11:08.028144Z",
     "iopub.status.busy": "2021-10-19T01:11:07.985341Z",
     "iopub.status.idle": "2021-10-19T01:12:22.148968Z",
     "shell.execute_reply": "2021-10-19T01:12:22.149429Z",
     "shell.execute_reply.started": "2021-10-19T00:22:32.047684Z"
    },
    "papermill": {
     "duration": 74.722588,
     "end_time": "2021-10-19T01:12:22.149581",
     "exception": false,
     "start_time": "2021-10-19T01:11:07.426993",
     "status": "completed"
    },
    "tags": []
   },
   "outputs": [
    {
     "name": "stdout",
     "output_type": "stream",
     "text": [
      "Found 40669 validated image filenames.\n"
     ]
    }
   ],
   "source": [
    "test_image_gen = tf.keras.preprocessing.image.ImageDataGenerator(rescale=1/255)\n",
    "\n",
    "# generating the image data for the first 40669 images in the sample submission dataframe\n",
    "test_gen = test_image_gen.flow_from_dataframe(dataframe=test1, \\\n",
    "            directory=test_path, x_col='image_name', y_col=None, \\\n",
    "            batch_size=128, shuffle=False, class_mode=None, target_size=(224,224))\n",
    "\n",
    "\n",
    "step_test_size1 = int(np.ceil(test_gen.samples / test_gen.batch_size))"
   ]
  },
  {
   "cell_type": "code",
   "execution_count": 15,
   "id": "0cd30117",
   "metadata": {
    "execution": {
     "iopub.execute_input": "2021-10-19T01:12:23.251110Z",
     "iopub.status.busy": "2021-10-19T01:12:23.250396Z",
     "iopub.status.idle": "2021-10-19T01:16:42.070932Z",
     "shell.execute_reply": "2021-10-19T01:16:42.071349Z",
     "shell.execute_reply.started": "2021-10-19T00:23:31.910154Z"
    },
    "papermill": {
     "duration": 259.373563,
     "end_time": "2021-10-19T01:16:42.071572",
     "exception": false,
     "start_time": "2021-10-19T01:12:22.698009",
     "status": "completed"
    },
    "tags": []
   },
   "outputs": [
    {
     "name": "stdout",
     "output_type": "stream",
     "text": [
      "318/318 [==============================] - 258s 811ms/step\n"
     ]
    }
   ],
   "source": [
    "test_gen.reset() # reseting the generator to be sure of avoiding shuffling\n",
    "pred = model.predict(test_gen, steps=step_test_size1, verbose=1) # predicts the first 40669 images in the \n",
    "                                                                    # sample submission dataframe"
   ]
  },
  {
   "cell_type": "code",
   "execution_count": 16,
   "id": "6bc9354d",
   "metadata": {
    "execution": {
     "iopub.execute_input": "2021-10-19T01:16:43.339631Z",
     "iopub.status.busy": "2021-10-19T01:16:43.338677Z",
     "iopub.status.idle": "2021-10-19T01:16:43.385082Z",
     "shell.execute_reply": "2021-10-19T01:16:43.384451Z",
     "shell.execute_reply.started": "2021-10-19T00:28:39.007679Z"
    },
    "papermill": {
     "duration": 0.680784,
     "end_time": "2021-10-19T01:16:43.385252",
     "exception": false,
     "start_time": "2021-10-19T01:16:42.704468",
     "status": "completed"
    },
    "tags": []
   },
   "outputs": [
    {
     "name": "stdout",
     "output_type": "stream",
     "text": [
      "['agriculture', 'blooming', 'road', 'primary', 'water', 'habitation', 'slash_burn', 'partly_cloudy', 'haze', 'cloudy', 'conventional_mine', 'selective_logging', 'blow_down', 'bare_ground', 'artisinal_mine', 'cultivation', 'clear']\n"
     ]
    }
   ],
   "source": [
    "unique_labels = set()\n",
    "def append_labels(tags):\n",
    "    for tag in tags.split():\n",
    "        unique_labels.add(tag)\n",
    "\n",
    "train_classes = train_classes.copy()\n",
    "train_classes['tags'].apply(append_labels)\n",
    "unique_labels = list(unique_labels)\n",
    "print(unique_labels)"
   ]
  },
  {
   "cell_type": "code",
   "execution_count": 17,
   "id": "f660ecae",
   "metadata": {
    "execution": {
     "iopub.execute_input": "2021-10-19T01:16:47.264440Z",
     "iopub.status.busy": "2021-10-19T01:16:47.257285Z",
     "iopub.status.idle": "2021-10-19T01:16:53.213946Z",
     "shell.execute_reply": "2021-10-19T01:16:53.214525Z",
     "shell.execute_reply.started": "2021-10-19T00:30:00.486004Z"
    },
    "papermill": {
     "duration": 9.191408,
     "end_time": "2021-10-19T01:16:53.214683",
     "exception": false,
     "start_time": "2021-10-19T01:16:44.023275",
     "status": "completed"
    },
    "tags": []
   },
   "outputs": [
    {
     "name": "stdout",
     "output_type": "stream",
     "text": [
      "   image_name                       tags\n",
      "0  test_0.jpg              primary clear\n",
      "1  test_1.jpg              primary clear\n",
      "2  test_2.jpg      primary partly_cloudy\n",
      "3  test_3.jpg  primary cultivation clear\n",
      "4  test_4.jpg      primary partly_cloudy\n"
     ]
    }
   ],
   "source": [
    "test_file_names1 = test_gen.filenames # storing the filenames (images names) of the first 40669 images names in \\\n",
    "# the sample submission dataframe as ordered in the prediction as a variable\n",
    "        \n",
    "# converting the predictions of the first 40669 to tag names\n",
    "pred_tags = pd.DataFrame(pred)\n",
    "pred_tags = pred_tags.apply(lambda x: ' '.join(np.array(unique_labels)[x > 0.5]), axis=1)\n",
    "\n",
    "# converting the predictions of the first 40669 to a dataframe\n",
    "import pandas as pd\n",
    "result1 = pd.DataFrame({'image_name': test_file_names1, 'tags': pred_tags})\n",
    "print(result1.head())\n",
    "\n"
   ]
  },
  {
   "cell_type": "code",
   "execution_count": 18,
   "id": "69318295",
   "metadata": {
    "execution": {
     "iopub.execute_input": "2021-10-19T01:16:54.962689Z",
     "iopub.status.busy": "2021-10-19T01:16:54.962084Z",
     "iopub.status.idle": "2021-10-19T01:16:54.970807Z",
     "shell.execute_reply": "2021-10-19T01:16:54.971190Z",
     "shell.execute_reply.started": "2021-10-19T00:30:11.145854Z"
    },
    "papermill": {
     "duration": 0.913361,
     "end_time": "2021-10-19T01:16:54.971362",
     "exception": false,
     "start_time": "2021-10-19T01:16:54.058001",
     "status": "completed"
    },
    "tags": []
   },
   "outputs": [
    {
     "data": {
      "text/html": [
       "<div>\n",
       "<style scoped>\n",
       "    .dataframe tbody tr th:only-of-type {\n",
       "        vertical-align: middle;\n",
       "    }\n",
       "\n",
       "    .dataframe tbody tr th {\n",
       "        vertical-align: top;\n",
       "    }\n",
       "\n",
       "    .dataframe thead th {\n",
       "        text-align: right;\n",
       "    }\n",
       "</style>\n",
       "<table border=\"1\" class=\"dataframe\">\n",
       "  <thead>\n",
       "    <tr style=\"text-align: right;\">\n",
       "      <th></th>\n",
       "      <th>image_name</th>\n",
       "    </tr>\n",
       "  </thead>\n",
       "  <tbody>\n",
       "    <tr>\n",
       "      <th>0</th>\n",
       "      <td>file_0.jpg</td>\n",
       "    </tr>\n",
       "    <tr>\n",
       "      <th>1</th>\n",
       "      <td>file_1.jpg</td>\n",
       "    </tr>\n",
       "    <tr>\n",
       "      <th>2</th>\n",
       "      <td>file_10.jpg</td>\n",
       "    </tr>\n",
       "    <tr>\n",
       "      <th>3</th>\n",
       "      <td>file_100.jpg</td>\n",
       "    </tr>\n",
       "    <tr>\n",
       "      <th>4</th>\n",
       "      <td>file_1000.jpg</td>\n",
       "    </tr>\n",
       "  </tbody>\n",
       "</table>\n",
       "</div>"
      ],
      "text/plain": [
       "      image_name\n",
       "0     file_0.jpg\n",
       "1     file_1.jpg\n",
       "2    file_10.jpg\n",
       "3   file_100.jpg\n",
       "4  file_1000.jpg"
      ]
     },
     "execution_count": 18,
     "metadata": {},
     "output_type": "execute_result"
    }
   ],
   "source": [
    "# selecting the remaining 'image_name'(s) from the submission_sample dataframe to generate image data from \n",
    "# test_additional_path\n",
    "test_additional = sample_copy.iloc[40669:]['image_name'].reset_index().drop('index', axis=1)\n",
    "test_additional.head()"
   ]
  },
  {
   "cell_type": "markdown",
   "id": "2cd49658",
   "metadata": {
    "papermill": {
     "duration": 0.631699,
     "end_time": "2021-10-19T01:16:56.233874",
     "exception": false,
     "start_time": "2021-10-19T01:16:55.602175",
     "status": "completed"
    },
    "tags": []
   },
   "source": [
    "### Reading in the additional testing files"
   ]
  },
  {
   "cell_type": "code",
   "execution_count": 19,
   "id": "1f475ff6",
   "metadata": {
    "execution": {
     "iopub.execute_input": "2021-10-19T01:16:57.553965Z",
     "iopub.status.busy": "2021-10-19T01:16:57.538379Z",
     "iopub.status.idle": "2021-10-19T01:19:57.299302Z",
     "shell.execute_reply": "2021-10-19T01:19:57.299785Z",
     "shell.execute_reply.started": "2021-10-19T00:30:14.285765Z"
    },
    "papermill": {
     "duration": 180.434853,
     "end_time": "2021-10-19T01:19:57.299970",
     "exception": false,
     "start_time": "2021-10-19T01:16:56.865117",
     "status": "completed"
    },
    "tags": []
   },
   "outputs": [
    {
     "name": "stdout",
     "output_type": "stream",
     "text": [
      "Found 20522 validated image filenames.\n",
      "161/161 [==============================] - 127s 791ms/step\n"
     ]
    }
   ],
   "source": [
    "# initializing an image data generator object for the remaining images in the sample submission dataframe\n",
    "test_image_gen2 = tf.keras.preprocessing.image.ImageDataGenerator(rescale=1/255)\n",
    "\n",
    "# generating the image data for the remaining images in the sample submission dataframe\n",
    "test_gen2 = test_image_gen2.flow_from_dataframe(dataframe=test_additional, \\\n",
    "            directory=test_additional_path, x_col='image_name', \\\n",
    "            y_col=None, batch_size=128, shuffle=False, class_mode=None, target_size=(224,224))\n",
    "\n",
    "# setting the step size for the testing set for the remaining images in the sample submission dataframe\n",
    "step_test_size2 = int(np.ceil(test_gen2.samples / test_gen2.batch_size))\n",
    "\n",
    "\n",
    "test_gen2.reset() # reseting the generator to be sure of avoiding shuffling\n",
    "pred2 = model.predict(test_gen2, steps=step_test_size2, verbose=1) "
   ]
  },
  {
   "cell_type": "code",
   "execution_count": 20,
   "id": "59e033e8",
   "metadata": {
    "execution": {
     "iopub.execute_input": "2021-10-19T01:20:03.181328Z",
     "iopub.status.busy": "2021-10-19T01:20:03.180646Z",
     "iopub.status.idle": "2021-10-19T01:20:03.183326Z",
     "shell.execute_reply": "2021-10-19T01:20:03.183743Z",
     "shell.execute_reply.started": "2021-10-19T00:33:14.760534Z"
    },
    "papermill": {
     "duration": 5.215101,
     "end_time": "2021-10-19T01:20:03.183906",
     "exception": false,
     "start_time": "2021-10-19T01:19:57.968805",
     "status": "completed"
    },
    "tags": []
   },
   "outputs": [],
   "source": [
    "test_file_names2 = test_gen2.filenames \n",
    "        \n",
    "# converting the predictions of the remaining images to tag names\n",
    "pred_tags2 = pd.DataFrame(pred2)\n",
    "pred_tags2 = pred_tags2.apply(lambda x: ' '.join(np.array(unique_labels)[x > 0.5]), axis=1)\n",
    "\n",
    "# converting the predictions of the remaining to a dataframe\n",
    "result2 = pd.DataFrame({'image_name': test_file_names2, 'tags': pred_tags2})"
   ]
  },
  {
   "cell_type": "code",
   "execution_count": 21,
   "id": "3500b592",
   "metadata": {
    "execution": {
     "iopub.execute_input": "2021-10-19T01:20:04.556428Z",
     "iopub.status.busy": "2021-10-19T01:20:04.555431Z",
     "iopub.status.idle": "2021-10-19T01:20:04.563002Z",
     "shell.execute_reply": "2021-10-19T01:20:04.563519Z",
     "shell.execute_reply.started": "2021-10-19T00:33:19.258024Z"
    },
    "papermill": {
     "duration": 0.70357,
     "end_time": "2021-10-19T01:20:04.563677",
     "exception": false,
     "start_time": "2021-10-19T01:20:03.860107",
     "status": "completed"
    },
    "tags": []
   },
   "outputs": [],
   "source": [
    "# joining the result of the test data and the additional files\n",
    "final_result = pd.concat([result1, result2]) \n",
    "final_result = final_result.reset_index().drop('index', axis=1) # reseting the index of the dataframe so it \n",
    "                                                                # matches that of sample submis"
   ]
  },
  {
   "cell_type": "code",
   "execution_count": 22,
   "id": "17075661",
   "metadata": {
    "execution": {
     "iopub.execute_input": "2021-10-19T01:20:06.175889Z",
     "iopub.status.busy": "2021-10-19T01:20:06.175105Z",
     "iopub.status.idle": "2021-10-19T01:20:06.199015Z",
     "shell.execute_reply": "2021-10-19T01:20:06.199463Z",
     "shell.execute_reply.started": "2021-10-19T00:33:19.272488Z"
    },
    "papermill": {
     "duration": 0.953476,
     "end_time": "2021-10-19T01:20:06.199605",
     "exception": false,
     "start_time": "2021-10-19T01:20:05.246129",
     "status": "completed"
    },
    "tags": []
   },
   "outputs": [
    {
     "data": {
      "text/html": [
       "<div>\n",
       "<style scoped>\n",
       "    .dataframe tbody tr th:only-of-type {\n",
       "        vertical-align: middle;\n",
       "    }\n",
       "\n",
       "    .dataframe tbody tr th {\n",
       "        vertical-align: top;\n",
       "    }\n",
       "\n",
       "    .dataframe thead th {\n",
       "        text-align: right;\n",
       "    }\n",
       "</style>\n",
       "<table border=\"1\" class=\"dataframe\">\n",
       "  <thead>\n",
       "    <tr style=\"text-align: right;\">\n",
       "      <th></th>\n",
       "      <th>image_name</th>\n",
       "      <th>tags</th>\n",
       "    </tr>\n",
       "  </thead>\n",
       "  <tbody>\n",
       "    <tr>\n",
       "      <th>0</th>\n",
       "      <td>test_0</td>\n",
       "      <td>primary clear</td>\n",
       "    </tr>\n",
       "    <tr>\n",
       "      <th>1</th>\n",
       "      <td>test_1</td>\n",
       "      <td>primary clear</td>\n",
       "    </tr>\n",
       "    <tr>\n",
       "      <th>2</th>\n",
       "      <td>test_2</td>\n",
       "      <td>primary partly_cloudy</td>\n",
       "    </tr>\n",
       "    <tr>\n",
       "      <th>3</th>\n",
       "      <td>test_3</td>\n",
       "      <td>primary cultivation clear</td>\n",
       "    </tr>\n",
       "    <tr>\n",
       "      <th>4</th>\n",
       "      <td>test_4</td>\n",
       "      <td>primary partly_cloudy</td>\n",
       "    </tr>\n",
       "  </tbody>\n",
       "</table>\n",
       "</div>"
      ],
      "text/plain": [
       "  image_name                       tags\n",
       "0     test_0              primary clear\n",
       "1     test_1              primary clear\n",
       "2     test_2      primary partly_cloudy\n",
       "3     test_3  primary cultivation clear\n",
       "4     test_4      primary partly_cloudy"
      ]
     },
     "execution_count": 22,
     "metadata": {},
     "output_type": "execute_result"
    }
   ],
   "source": [
    "# removing the jpegs extension back from the dataframe\n",
    "final_result['image_name'] = final_result['image_name'].apply(lambda x: x[:-4])\n",
    "final_result.head()"
   ]
  },
  {
   "cell_type": "markdown",
   "id": "4cad1f89",
   "metadata": {
    "papermill": {
     "duration": 0.798195,
     "end_time": "2021-10-19T01:20:07.667889",
     "exception": false,
     "start_time": "2021-10-19T01:20:06.869694",
     "status": "completed"
    },
    "tags": []
   },
   "source": [
    "### Final Submission"
   ]
  },
  {
   "cell_type": "code",
   "execution_count": 23,
   "id": "2c1fc2a8",
   "metadata": {
    "execution": {
     "iopub.execute_input": "2021-10-19T01:20:09.344677Z",
     "iopub.status.busy": "2021-10-19T01:20:09.343686Z",
     "iopub.status.idle": "2021-10-19T01:20:09.501953Z",
     "shell.execute_reply": "2021-10-19T01:20:09.501475Z",
     "shell.execute_reply.started": "2021-10-19T00:33:19.305764Z"
    },
    "papermill": {
     "duration": 0.838912,
     "end_time": "2021-10-19T01:20:09.502072",
     "exception": false,
     "start_time": "2021-10-19T01:20:08.663160",
     "status": "completed"
    },
    "tags": []
   },
   "outputs": [],
   "source": [
    "final_result.to_csv('second_submission.csv', index=False) # saving the predictions"
   ]
  },
  {
   "cell_type": "code",
   "execution_count": null,
   "id": "68e73506",
   "metadata": {
    "papermill": {
     "duration": 0.670694,
     "end_time": "2021-10-19T01:20:10.884373",
     "exception": false,
     "start_time": "2021-10-19T01:20:10.213679",
     "status": "completed"
    },
    "tags": []
   },
   "outputs": [],
   "source": []
  }
 ],
 "metadata": {
  "kernelspec": {
   "display_name": "Python 3",
   "language": "python",
   "name": "python3"
  },
  "language_info": {
   "codemirror_mode": {
    "name": "ipython",
    "version": 3
   },
   "file_extension": ".py",
   "mimetype": "text/x-python",
   "name": "python",
   "nbconvert_exporter": "python",
   "pygments_lexer": "ipython3",
   "version": "3.7.10"
  },
  "papermill": {
   "default_parameters": {},
   "duration": 2759.117998,
   "end_time": "2021-10-19T01:20:14.667575",
   "environment_variables": {},
   "exception": null,
   "input_path": "__notebook__.ipynb",
   "output_path": "__notebook__.ipynb",
   "parameters": {},
   "start_time": "2021-10-19T00:34:15.549577",
   "version": "2.3.3"
  }
 },
 "nbformat": 4,
 "nbformat_minor": 5
}
